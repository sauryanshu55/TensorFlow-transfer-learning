{
  "nbformat": 4,
  "nbformat_minor": 0,
  "metadata": {
    "colab": {
      "provenance": [],
      "collapsed_sections": [],
      "toc_visible": true
    },
    "kernelspec": {
      "name": "python3",
      "display_name": "Python 3"
    },
    "language_info": {
      "name": "python"
    },
    "accelerator": "GPU",
    "gpuClass": "standard"
  },
  "cells": [
    {
      "cell_type": "markdown",
      "source": [
        "## Transfer learning with TensorFlow, Part 1: Feature Extraction"
      ],
      "metadata": {
        "id": "TUJODXVv-AL7"
      }
    },
    {
      "cell_type": "code",
      "source": [
        "!nvidia-smi"
      ],
      "metadata": {
        "colab": {
          "base_uri": "https://localhost:8080/"
        },
        "id": "A8VLxCzkEsai",
        "outputId": "d20a3594-801f-437e-f8d7-71f95cab6d5a"
      },
      "execution_count": 1,
      "outputs": [
        {
          "output_type": "stream",
          "name": "stdout",
          "text": [
            "Tue Sep 13 02:51:42 2022       \n",
            "+-----------------------------------------------------------------------------+\n",
            "| NVIDIA-SMI 460.32.03    Driver Version: 460.32.03    CUDA Version: 11.2     |\n",
            "|-------------------------------+----------------------+----------------------+\n",
            "| GPU  Name        Persistence-M| Bus-Id        Disp.A | Volatile Uncorr. ECC |\n",
            "| Fan  Temp  Perf  Pwr:Usage/Cap|         Memory-Usage | GPU-Util  Compute M. |\n",
            "|                               |                      |               MIG M. |\n",
            "|===============================+======================+======================|\n",
            "|   0  Tesla T4            Off  | 00000000:00:04.0 Off |                    0 |\n",
            "| N/A   49C    P8    10W /  70W |      0MiB / 15109MiB |      0%      Default |\n",
            "|                               |                      |                  N/A |\n",
            "+-------------------------------+----------------------+----------------------+\n",
            "                                                                               \n",
            "+-----------------------------------------------------------------------------+\n",
            "| Processes:                                                                  |\n",
            "|  GPU   GI   CI        PID   Type   Process name                  GPU Memory |\n",
            "|        ID   ID                                                   Usage      |\n",
            "|=============================================================================|\n",
            "|  No running processes found                                                 |\n",
            "+-----------------------------------------------------------------------------+\n"
          ]
        }
      ]
    },
    {
      "cell_type": "markdown",
      "source": [
        "# Becoming one with the data"
      ],
      "metadata": {
        "id": "Smah1BWTE1_2"
      }
    },
    {
      "cell_type": "code",
      "source": [
        "import zipfile\n",
        "!wget https://storage.googleapis.com/ztm_tf_course/food_vision/10_food_classes_10_percent.zip\n",
        "zip_ref=zipfile.ZipFile('10_food_classes_10_percent.zip')\n",
        "zip_ref.extractall()\n",
        "zip_ref.close()"
      ],
      "metadata": {
        "colab": {
          "base_uri": "https://localhost:8080/"
        },
        "id": "ilkGPpZDFiO6",
        "outputId": "86e45275-948a-4771-a06f-a5758bb86013"
      },
      "execution_count": 2,
      "outputs": [
        {
          "output_type": "stream",
          "name": "stdout",
          "text": [
            "--2022-09-13 02:51:42--  https://storage.googleapis.com/ztm_tf_course/food_vision/10_food_classes_10_percent.zip\n",
            "Resolving storage.googleapis.com (storage.googleapis.com)... 173.194.196.128, 64.233.191.128, 173.194.74.128, ...\n",
            "Connecting to storage.googleapis.com (storage.googleapis.com)|173.194.196.128|:443... connected.\n",
            "HTTP request sent, awaiting response... 200 OK\n",
            "Length: 168546183 (161M) [application/zip]\n",
            "Saving to: ‘10_food_classes_10_percent.zip’\n",
            "\n",
            "10_food_classes_10_ 100%[===================>] 160.74M   175MB/s    in 0.9s    \n",
            "\n",
            "2022-09-13 02:51:43 (175 MB/s) - ‘10_food_classes_10_percent.zip’ saved [168546183/168546183]\n",
            "\n"
          ]
        }
      ]
    },
    {
      "cell_type": "code",
      "source": [
        "import os\n",
        "for dirpath, dirnames, filenames in os.walk('10_food_classes_10_percent'):\n",
        "    print(f'Number of Directories (Classes): {len(dirnames)} Number of images: {len(filenames)} in {dirpath}')"
      ],
      "metadata": {
        "colab": {
          "base_uri": "https://localhost:8080/"
        },
        "id": "BPWGaFCQGKDw",
        "outputId": "236e7676-f862-400e-b0b5-9b4ed4729d04"
      },
      "execution_count": 3,
      "outputs": [
        {
          "output_type": "stream",
          "name": "stdout",
          "text": [
            "Number of Directories (Classes): 2 Number of images: 0 in 10_food_classes_10_percent\n",
            "Number of Directories (Classes): 10 Number of images: 0 in 10_food_classes_10_percent/train\n",
            "Number of Directories (Classes): 0 Number of images: 75 in 10_food_classes_10_percent/train/sushi\n",
            "Number of Directories (Classes): 0 Number of images: 75 in 10_food_classes_10_percent/train/steak\n",
            "Number of Directories (Classes): 0 Number of images: 75 in 10_food_classes_10_percent/train/pizza\n",
            "Number of Directories (Classes): 0 Number of images: 75 in 10_food_classes_10_percent/train/ice_cream\n",
            "Number of Directories (Classes): 0 Number of images: 75 in 10_food_classes_10_percent/train/grilled_salmon\n",
            "Number of Directories (Classes): 0 Number of images: 75 in 10_food_classes_10_percent/train/chicken_wings\n",
            "Number of Directories (Classes): 0 Number of images: 75 in 10_food_classes_10_percent/train/chicken_curry\n",
            "Number of Directories (Classes): 0 Number of images: 75 in 10_food_classes_10_percent/train/hamburger\n",
            "Number of Directories (Classes): 0 Number of images: 75 in 10_food_classes_10_percent/train/ramen\n",
            "Number of Directories (Classes): 0 Number of images: 75 in 10_food_classes_10_percent/train/fried_rice\n",
            "Number of Directories (Classes): 10 Number of images: 0 in 10_food_classes_10_percent/test\n",
            "Number of Directories (Classes): 0 Number of images: 250 in 10_food_classes_10_percent/test/sushi\n",
            "Number of Directories (Classes): 0 Number of images: 250 in 10_food_classes_10_percent/test/steak\n",
            "Number of Directories (Classes): 0 Number of images: 250 in 10_food_classes_10_percent/test/pizza\n",
            "Number of Directories (Classes): 0 Number of images: 250 in 10_food_classes_10_percent/test/ice_cream\n",
            "Number of Directories (Classes): 0 Number of images: 250 in 10_food_classes_10_percent/test/grilled_salmon\n",
            "Number of Directories (Classes): 0 Number of images: 250 in 10_food_classes_10_percent/test/chicken_wings\n",
            "Number of Directories (Classes): 0 Number of images: 250 in 10_food_classes_10_percent/test/chicken_curry\n",
            "Number of Directories (Classes): 0 Number of images: 250 in 10_food_classes_10_percent/test/hamburger\n",
            "Number of Directories (Classes): 0 Number of images: 250 in 10_food_classes_10_percent/test/ramen\n",
            "Number of Directories (Classes): 0 Number of images: 250 in 10_food_classes_10_percent/test/fried_rice\n"
          ]
        }
      ]
    },
    {
      "cell_type": "markdown",
      "source": [
        "# Create Data loaders"
      ],
      "metadata": {
        "id": "boyzG-gzHCVz"
      }
    },
    {
      "cell_type": "code",
      "source": [
        "# Setup data inputs\n",
        "from tensorflow.keras.preprocessing.image import ImageDataGenerator\n",
        "\n",
        "IMAGE_SHAPE=(224,224)\n",
        "BATCH_SIZE=32\n",
        "\n",
        "train_dir='10_food_classes_10_percent/train/'\n",
        "test_dir='10_food_classes_10_percent/test/'\n",
        "\n",
        "train_datagen=ImageDataGenerator(rescale=1/255.)\n",
        "test_datagen=ImageDataGenerator(rescale=1/255.)\n",
        "\n",
        "print('Training Images:')\n",
        "train_data_10_percent=train_datagen.flow_from_directory(\n",
        "    train_dir,\n",
        "    target_size=IMAGE_SHAPE,\n",
        "    batch_size=BATCH_SIZE,\n",
        "    class_mode='categorical',\n",
        ")\n",
        "\n",
        "print('Testing Images:')\n",
        "test_data=train_datagen.flow_from_directory(\n",
        "    test_dir,\n",
        "    target_size=IMAGE_SHAPE,\n",
        "    batch_size=BATCH_SIZE,\n",
        "    class_mode='categorical',\n",
        ")"
      ],
      "metadata": {
        "colab": {
          "base_uri": "https://localhost:8080/"
        },
        "id": "avsOLN6GHSQr",
        "outputId": "cc274d79-e1d2-411d-cd20-15ff4165ccd6"
      },
      "execution_count": 4,
      "outputs": [
        {
          "output_type": "stream",
          "name": "stdout",
          "text": [
            "Training Images:\n",
            "Found 750 images belonging to 10 classes.\n",
            "Testing Images:\n",
            "Found 2500 images belonging to 10 classes.\n"
          ]
        }
      ]
    },
    {
      "cell_type": "markdown",
      "source": [
        "## Setting up callbacks"
      ],
      "metadata": {
        "id": "K0vnOMk6JlmA"
      }
    },
    {
      "cell_type": "code",
      "source": [
        "# Functionize and create TensorBoard callback\n",
        "import tensorflow as tf\n",
        "import datetime\n",
        "\n",
        "def create_tensorboard_callback(dir_name, experiment_name,):\n",
        "    log_dir=dir_name+'/'+experiment_name+'/'+datetime.datetime.now().strftime('%Y%m%d-%H%M%S')\n",
        "    tensorboard_callback=tf.keras.callbacks.TensorBoard(log_dir=log_dir)\n",
        "    print(f'Saving TensorBoard logfiles to: {log_dir}....')\n",
        "    return tensorboard_callback"
      ],
      "metadata": {
        "id": "Vj_sTYnSKXOT"
      },
      "execution_count": 5,
      "outputs": []
    },
    {
      "cell_type": "markdown",
      "source": [
        "# Creating models using TensorFlow Hub"
      ],
      "metadata": {
        "id": "akLlphfwfyr0"
      }
    },
    {
      "cell_type": "code",
      "source": [
        "# Comparing the two TF hub models\n",
        "resnet_url='https://tfhub.dev/google/imagenet/resnet_v2_50/feature_vector/5'\n",
        "efficientnet_url='https://tfhub.dev/tensorflow/efficientnet/b0/feature-vector/1'"
      ],
      "metadata": {
        "id": "aMBPAXdxf2Pb"
      },
      "execution_count": 6,
      "outputs": []
    },
    {
      "cell_type": "code",
      "source": [
        "# Impoirt dependencies\n",
        "import tensorflow as tf\n",
        "import tensorflow_hub as hub\n",
        "from tensorflow.keras import layers\n",
        "\n",
        "# create_model() func to create model from TF hub URL\n",
        "def create_model(model_url, num_classes=10):\n",
        "  \"\"\"\n",
        "  Takes a TensorFlow Hub URL and creates a Keras Sequential model with it.\n",
        "  \"\"\"\n",
        "  # Download the pretrained model and save it as a Keras layer\n",
        "  feature_extractor_layer = hub.KerasLayer(model_url,\n",
        "                                           trainable=False, # freeze the already learned patterns\n",
        "                                           name=\"feature_extraction_lyaer\",\n",
        "                                           input_shape=IMAGE_SHAPE+(3,)) \n",
        "\n",
        "  # Create our own model\n",
        "  model = tf.keras.Sequential([\n",
        "    feature_extractor_layer,\n",
        "    layers.Dense(num_classes, activation=\"softmax\", name=\"output_layer\")\n",
        "  ])\n",
        "    \n",
        "  return model  "
      ],
      "metadata": {
        "id": "Z4Y9yEc7gjfr"
      },
      "execution_count": 7,
      "outputs": []
    },
    {
      "cell_type": "markdown",
      "source": [
        "## Creating and testing ResNet TensorFlow Hub fearture extraction model"
      ],
      "metadata": {
        "id": "IloltdFIig7A"
      }
    },
    {
      "cell_type": "code",
      "source": [
        "# Create Resnet Model\n",
        "resnet_model=create_model(resnet_url,\n",
        "                          num_classes=train_data_10_percent.num_classes)\n"
      ],
      "metadata": {
        "id": "lVTXl8fOjJlg"
      },
      "execution_count": 8,
      "outputs": []
    },
    {
      "cell_type": "code",
      "source": [
        "resnet_model.summary()"
      ],
      "metadata": {
        "colab": {
          "base_uri": "https://localhost:8080/"
        },
        "id": "5wFWGSwdjwsf",
        "outputId": "898da0ec-7236-4446-9ff5-24d1da839fe5"
      },
      "execution_count": 9,
      "outputs": [
        {
          "output_type": "stream",
          "name": "stdout",
          "text": [
            "Model: \"sequential\"\n",
            "_________________________________________________________________\n",
            " Layer (type)                Output Shape              Param #   \n",
            "=================================================================\n",
            " feature_extraction_lyaer (K  (None, 2048)             23564800  \n",
            " erasLayer)                                                      \n",
            "                                                                 \n",
            " output_layer (Dense)        (None, 10)                20490     \n",
            "                                                                 \n",
            "=================================================================\n",
            "Total params: 23,585,290\n",
            "Trainable params: 20,490\n",
            "Non-trainable params: 23,564,800\n",
            "_________________________________________________________________\n"
          ]
        }
      ]
    },
    {
      "cell_type": "code",
      "source": [
        "from tensorflow.python import metrics\n",
        "# Compile the ResNet model\n",
        "resnet_model.compile(\n",
        "    loss='categorical_crossentropy',\n",
        "    optimizer=tf.keras.optimizers.Adam(),\n",
        "    metrics=['accuracy'],\n",
        ")"
      ],
      "metadata": {
        "id": "WJn_Wr7DjzdS"
      },
      "execution_count": 10,
      "outputs": []
    },
    {
      "cell_type": "code",
      "source": [
        "# Fit the ResNet model to the data\n",
        "resnet_history=resnet_model.fit(train_data_10_percent,\n",
        "                               epochs=5,\n",
        "                               steps_per_epoch=len(train_data_10_percent),\n",
        "                               validation_data=test_data,\n",
        "                               validation_steps=len(test_data),\n",
        "                               callbacks=[create_tensorboard_callback(dir_name='tensorflow_hub',\n",
        "                                                                      experiment_name='resnet50V2')]\n",
        "                               )"
      ],
      "metadata": {
        "colab": {
          "base_uri": "https://localhost:8080/"
        },
        "id": "JXWQRlm5mdmp",
        "outputId": "503683c3-0ab2-46de-fbf1-02659f3b61bc"
      },
      "execution_count": 11,
      "outputs": [
        {
          "output_type": "stream",
          "name": "stdout",
          "text": [
            "Saving TensorBoard logfiles to: tensorflow_hub/resnet50V2/20220913-025200....\n",
            "Epoch 1/5\n",
            "24/24 [==============================] - 33s 766ms/step - loss: 1.8180 - accuracy: 0.3773 - val_loss: 1.1013 - val_accuracy: 0.6672\n",
            "Epoch 2/5\n",
            "24/24 [==============================] - 16s 691ms/step - loss: 0.8511 - accuracy: 0.7520 - val_loss: 0.8143 - val_accuracy: 0.7388\n",
            "Epoch 3/5\n",
            "24/24 [==============================] - 17s 719ms/step - loss: 0.5979 - accuracy: 0.8227 - val_loss: 0.7331 - val_accuracy: 0.7576\n",
            "Epoch 4/5\n",
            "24/24 [==============================] - 16s 685ms/step - loss: 0.4581 - accuracy: 0.8853 - val_loss: 0.7073 - val_accuracy: 0.7656\n",
            "Epoch 5/5\n",
            "24/24 [==============================] - 25s 1s/step - loss: 0.3652 - accuracy: 0.9120 - val_loss: 0.6752 - val_accuracy: 0.7704\n"
          ]
        }
      ]
    },
    {
      "cell_type": "code",
      "source": [
        "# Create function to plot loss curves\n",
        "\n",
        "import matplotlib.pyplot as plt\n",
        "\n",
        "# Plot validation and training ccurves\n",
        "def plot_loss_curves(history):\n",
        "    \"\"\"Returns seperate loss curves for training and validation metrics\"\"\"\n",
        "\n",
        "    loss=history.history['loss']\n",
        "    val_loss=history.history['val_loss']\n",
        "\n",
        "    accuracy=history.history['accuracy']\n",
        "    val_accuracy=history.history['val_accuracy']\n",
        "\n",
        "    epochs=range(len(history.history['loss']))\n",
        "\n",
        "    # Plot loss\n",
        "    plt.plot(epochs,loss,label='training_loss')\n",
        "    plt.plot(epochs,val_loss,label='val_loss')\n",
        "    plt.title('Loss')\n",
        "    plt.xlabel('Epochs')\n",
        "    plt.legend()\n",
        "\n",
        "    # Plot accuracy\n",
        "    plt.figure()\n",
        "    plt.plot(epochs,accuracy,label='training_accuracy')\n",
        "    plt.plot(epochs,val_accuracy, label='val_accuracy')\n",
        "    plt.title('Accuracy')\n",
        "    plt.xlabel('Epochs')\n",
        "    plt.legend()\n"
      ],
      "metadata": {
        "id": "i_bNDTh6pXJn"
      },
      "execution_count": 12,
      "outputs": []
    },
    {
      "cell_type": "code",
      "source": [
        "plot_loss_curves(resnet_history)"
      ],
      "metadata": {
        "colab": {
          "base_uri": "https://localhost:8080/",
          "height": 573
        },
        "id": "Hc86V_tBrT6W",
        "outputId": "f6eb756b-7394-4e83-9f8f-5bf016d3b866"
      },
      "execution_count": 13,
      "outputs": [
        {
          "output_type": "display_data",
          "data": {
            "text/plain": [
              "<Figure size 432x288 with 1 Axes>"
            ],
            "image/png": "[encoded data removed]"
          },
          "metadata": {
            "needs_background": "light"
          }
        },
        {
          "output_type": "display_data",
          "data": {
            "text/plain": [
              "<Figure size 432x288 with 1 Axes>"
            ],
            "image/png": "[encoded data removed]"
          },
          "metadata": {
            "needs_background": "light"
          }
        }
      ]
    },
    {
      "cell_type": "markdown",
      "source": [
        "## Creating and testing EfficientNetB0 TensorFlow Hub Feature Extraction model"
      ],
      "metadata": {
        "id": "KdPO_GYSr4VL"
      }
    },
    {
      "cell_type": "code",
      "source": [
        "# Create EfficientNetB0 feature extractor model\n",
        "efficientnet_model=create_model(model_url=efficientnet_url,\n",
        "                                num_classes=train_data_10_percent.num_classes)\n",
        "\n",
        "#Compile EfficientNet model\n",
        "efficientnet_model.compile(\n",
        "    loss='categorical_crossentropy',\n",
        "    optimizer=tf.keras.optimizers.Adam(),\n",
        "    metrics=['accuracy']\n",
        ")\n",
        "\n",
        "# Fit the model\n",
        "efficientnet_history=efficientnet_model.fit(\n",
        "    train_data_10_percent,\n",
        "    epochs=5,\n",
        "    steps_per_epoch=len(train_data_10_percent),\n",
        "    validation_data=test_data,\n",
        "    validation_steps=len(test_data),\n",
        "    callbacks=[create_tensorboard_callback(dir_name='tensorflow_hub',\n",
        "                                           experiment_name='efficientnetb0') ]\n",
        ")"
      ],
      "metadata": {
        "id": "0yX8S1kEsat6",
        "colab": {
          "base_uri": "https://localhost:8080/"
        },
        "outputId": "cfcbdb94-5b5a-4b7d-b8be-70a22d4a24fd"
      },
      "execution_count": 14,
      "outputs": [
        {
          "output_type": "stream",
          "name": "stdout",
          "text": [
            "Saving TensorBoard logfiles to: tensorflow_hub/efficientnetb0/20220913-030521....\n",
            "Epoch 1/5\n",
            "24/24 [==============================] - 26s 733ms/step - loss: 1.8252 - accuracy: 0.4667 - val_loss: 1.2797 - val_accuracy: 0.7584\n",
            "Epoch 2/5\n",
            "24/24 [==============================] - 16s 688ms/step - loss: 1.0498 - accuracy: 0.7853 - val_loss: 0.8530 - val_accuracy: 0.8260\n",
            "Epoch 3/5\n",
            "24/24 [==============================] - 15s 657ms/step - loss: 0.7462 - accuracy: 0.8373 - val_loss: 0.6881 - val_accuracy: 0.8524\n",
            "Epoch 4/5\n",
            "24/24 [==============================] - 16s 671ms/step - loss: 0.6023 - accuracy: 0.8600 - val_loss: 0.6040 - val_accuracy: 0.8576\n",
            "Epoch 5/5\n",
            "24/24 [==============================] - 15s 661ms/step - loss: 0.5078 - accuracy: 0.8867 - val_loss: 0.5520 - val_accuracy: 0.8616\n"
          ]
        }
      ]
    }
  ]
}